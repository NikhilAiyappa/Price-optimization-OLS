{
 "cells": [
  {
   "cell_type": "code",
   "execution_count": 1,
   "id": "c1f58c51",
   "metadata": {},
   "outputs": [],
   "source": [
    "import pandas as pd "
   ]
  },
  {
   "cell_type": "code",
   "execution_count": 2,
   "id": "5b2c218f",
   "metadata": {},
   "outputs": [
    {
     "data": {
      "text/html": [
       "<div>\n",
       "<style scoped>\n",
       "    .dataframe tbody tr th:only-of-type {\n",
       "        vertical-align: middle;\n",
       "    }\n",
       "\n",
       "    .dataframe tbody tr th {\n",
       "        vertical-align: top;\n",
       "    }\n",
       "\n",
       "    .dataframe thead th {\n",
       "        text-align: right;\n",
       "    }\n",
       "</style>\n",
       "<table border=\"1\" class=\"dataframe\">\n",
       "  <thead>\n",
       "    <tr style=\"text-align: right;\">\n",
       "      <th></th>\n",
       "      <th>Year</th>\n",
       "      <th>Quarter</th>\n",
       "      <th>Quantity</th>\n",
       "      <th>Price</th>\n",
       "    </tr>\n",
       "  </thead>\n",
       "  <tbody>\n",
       "    <tr>\n",
       "      <th>0</th>\n",
       "      <td>1977</td>\n",
       "      <td>1</td>\n",
       "      <td>22.9976</td>\n",
       "      <td>142.1667</td>\n",
       "    </tr>\n",
       "    <tr>\n",
       "      <th>1</th>\n",
       "      <td>1977</td>\n",
       "      <td>2</td>\n",
       "      <td>22.6131</td>\n",
       "      <td>143.9333</td>\n",
       "    </tr>\n",
       "    <tr>\n",
       "      <th>2</th>\n",
       "      <td>1977</td>\n",
       "      <td>3</td>\n",
       "      <td>23.4054</td>\n",
       "      <td>146.5000</td>\n",
       "    </tr>\n",
       "    <tr>\n",
       "      <th>3</th>\n",
       "      <td>1977</td>\n",
       "      <td>4</td>\n",
       "      <td>22.7401</td>\n",
       "      <td>150.8000</td>\n",
       "    </tr>\n",
       "  </tbody>\n",
       "</table>\n",
       "</div>"
      ],
      "text/plain": [
       "   Year  Quarter  Quantity     Price\n",
       "0  1977        1   22.9976  142.1667\n",
       "1  1977        2   22.6131  143.9333\n",
       "2  1977        3   23.4054  146.5000\n",
       "3  1977        4   22.7401  150.8000"
      ]
     },
     "execution_count": 2,
     "metadata": {},
     "output_type": "execute_result"
    }
   ],
   "source": [
    "beef = pd.read_excel('beef_sales.xlsx')\n",
    "beef.head(4)"
   ]
  },
  {
   "cell_type": "code",
   "execution_count": 3,
   "id": "57847d30",
   "metadata": {},
   "outputs": [
    {
     "data": {
      "text/html": [
       "<div>\n",
       "<style scoped>\n",
       "    .dataframe tbody tr th:only-of-type {\n",
       "        vertical-align: middle;\n",
       "    }\n",
       "\n",
       "    .dataframe tbody tr th {\n",
       "        vertical-align: top;\n",
       "    }\n",
       "\n",
       "    .dataframe thead th {\n",
       "        text-align: right;\n",
       "    }\n",
       "</style>\n",
       "<table border=\"1\" class=\"dataframe\">\n",
       "  <thead>\n",
       "    <tr style=\"text-align: right;\">\n",
       "      <th></th>\n",
       "      <th>Year</th>\n",
       "      <th>Quarter</th>\n",
       "      <th>Quantity</th>\n",
       "      <th>Price</th>\n",
       "    </tr>\n",
       "  </thead>\n",
       "  <tbody>\n",
       "    <tr>\n",
       "      <th>86</th>\n",
       "      <td>1998</td>\n",
       "      <td>3</td>\n",
       "      <td>17.5085</td>\n",
       "      <td>277.3667</td>\n",
       "    </tr>\n",
       "    <tr>\n",
       "      <th>87</th>\n",
       "      <td>1998</td>\n",
       "      <td>4</td>\n",
       "      <td>16.6475</td>\n",
       "      <td>279.5333</td>\n",
       "    </tr>\n",
       "    <tr>\n",
       "      <th>88</th>\n",
       "      <td>1999</td>\n",
       "      <td>1</td>\n",
       "      <td>16.6785</td>\n",
       "      <td>278.0000</td>\n",
       "    </tr>\n",
       "    <tr>\n",
       "      <th>89</th>\n",
       "      <td>1999</td>\n",
       "      <td>2</td>\n",
       "      <td>17.7635</td>\n",
       "      <td>284.7667</td>\n",
       "    </tr>\n",
       "    <tr>\n",
       "      <th>90</th>\n",
       "      <td>1999</td>\n",
       "      <td>3</td>\n",
       "      <td>17.6689</td>\n",
       "      <td>289.2333</td>\n",
       "    </tr>\n",
       "  </tbody>\n",
       "</table>\n",
       "</div>"
      ],
      "text/plain": [
       "    Year  Quarter  Quantity     Price\n",
       "86  1998        3   17.5085  277.3667\n",
       "87  1998        4   16.6475  279.5333\n",
       "88  1999        1   16.6785  278.0000\n",
       "89  1999        2   17.7635  284.7667\n",
       "90  1999        3   17.6689  289.2333"
      ]
     },
     "execution_count": 3,
     "metadata": {},
     "output_type": "execute_result"
    }
   ],
   "source": [
    "beef.tail(5)"
   ]
  },
  {
   "cell_type": "code",
   "execution_count": 4,
   "id": "661c6f74",
   "metadata": {},
   "outputs": [],
   "source": [
    "import numpy as np\n",
    "from pandas import DataFrame\n",
    "import matplotlib.pyplot as plt\n",
    "import seaborn as sns\n",
    "from statsmodels.formula.api import ols\n",
    "%matplotlib inline"
   ]
  },
  {
   "cell_type": "markdown",
   "id": "5032722b",
   "metadata": {},
   "source": [
    "# equations for price optimization\n",
    "\n",
    "Revenue = Quantity * Price (1)\n",
    "\n",
    "\n",
    "profit = Revenue - cost (2)\n",
    "\n",
    "profit = quantity * Price  - cost  (3)"
   ]
  },
  {
   "cell_type": "code",
   "execution_count": 7,
   "id": "390412a8",
   "metadata": {},
   "outputs": [
    {
     "name": "stderr",
     "output_type": "stream",
     "text": [
      "D:\\Anaconda\\lib\\site-packages\\seaborn\\regression.py:580: UserWarning: The `size` parameter has been renamed to `height`; please update your code.\n",
      "  warnings.warn(msg, UserWarning)\n"
     ]
    },
    {
     "data": {
      "text/plain": [
       "<seaborn.axisgrid.FacetGrid at 0x1e84ef0bc10>"
      ]
     },
     "execution_count": 7,
     "metadata": {},
     "output_type": "execute_result"
    },
    {
     "data": {
      "image/png": "[encoded data removed]",
      "text/plain": [
       "<Figure size 288x288 with 1 Axes>"
      ]
     },
     "metadata": {
      "needs_background": "light"
     },
     "output_type": "display_data"
    }
   ],
   "source": [
    "# demand curve\n",
    "sns.lmplot(x = \"Price\", y = \"Quantity\", \n",
    "data = beef, size = 4)"
   ]
  },
  {
   "cell_type": "code",
   "execution_count": 8,
   "id": "32914707",
   "metadata": {},
   "outputs": [
    {
     "name": "stdout",
     "output_type": "stream",
     "text": [
      "                            OLS Regression Results                            \n",
      "==============================================================================\n",
      "Dep. Variable:               Quantity   R-squared:                       0.901\n",
      "Model:                            OLS   Adj. R-squared:                  0.900\n",
      "Method:                 Least Squares   F-statistic:                     811.2\n",
      "Date:                Mon, 25 Jul 2022   Prob (F-statistic):           1.69e-46\n",
      "Time:                        15:49:39   Log-Likelihood:                -77.493\n",
      "No. Observations:                  91   AIC:                             159.0\n",
      "Df Residuals:                      89   BIC:                             164.0\n",
      "Df Model:                           1                                         \n",
      "Covariance Type:            nonrobust                                         \n",
      "==============================================================================\n",
      "                 coef    std err          t      P>|t|      [0.025      0.975]\n",
      "------------------------------------------------------------------------------\n",
      "Intercept     30.0515      0.413     72.701      0.000      29.230      30.873\n",
      "Price         -0.0465      0.002    -28.482      0.000      -0.050      -0.043\n",
      "==============================================================================\n",
      "Omnibus:                        3.453   Durbin-Watson:                   1.533\n",
      "Prob(Omnibus):                  0.178   Jarque-Bera (JB):                2.460\n",
      "Skew:                           0.237   Prob(JB):                        0.292\n",
      "Kurtosis:                       2.349   Cond. No.                     1.74e+03\n",
      "==============================================================================\n",
      "\n",
      "Notes:\n",
      "[1] Standard Errors assume that the covariance matrix of the errors is correctly specified.\n",
      "[2] The condition number is large, 1.74e+03. This might indicate that there are\n",
      "strong multicollinearity or other numerical problems.\n"
     ]
    }
   ],
   "source": [
    "# fit OLS model\n",
    "model = ols(\"Quantity ~ Price\", data = beef).fit()\n",
    "# print model summary\n",
    "print(model.summary())"
   ]
  },
  {
   "cell_type": "markdown",
   "id": "ad4dde8d",
   "metadata": {},
   "source": [
    "### The coefficient we are looking for is coming from the regression model above — the intercept and the price coefficient — to measure the corresponding sales quantity. We can now plug these values into equation 3."
   ]
  },
  {
   "cell_type": "code",
   "execution_count": 12,
   "id": "d9ffb6b3",
   "metadata": {},
   "outputs": [],
   "source": [
    "# plugging regression coefficients\n",
    "price = 0\n",
    "cost = 0\n",
    "quantity = 30.0515 - 0.0465 * price # eq (5)\n",
    "# the profit function in eq (3) becomes\n",
    "profit = (30.05 - 0.0465 * price) * price - cost # eq (6)"
   ]
  },
  {
   "cell_type": "code",
   "execution_count": 21,
   "id": "01e71bde",
   "metadata": {},
   "outputs": [
    {
     "data": {
      "text/plain": [
       "[<matplotlib.lines.Line2D at 0x1e84fe51b20>]"
      ]
     },
     "execution_count": 21,
     "metadata": {},
     "output_type": "execute_result"
    },
    {
     "data": {
      "image/png": "[encoded data removed]",
      "text/plain": [
       "<Figure size 432x288 with 1 Axes>"
      ]
     },
     "metadata": {
      "needs_background": "light"
     },
     "output_type": "display_data"
    }
   ],
   "source": [
    "# a range of diffferent prices to find the optimum one\n",
    "Price = [320, 330, 340, 350, 360, 370, 380, 390]\n",
    "# assuming a fixed cost\n",
    "cost = 80\n",
    "Revenue = []\n",
    "for i in Price:\n",
    "    quantity_demanded = 30.05 - 0.0465 * i\n",
    "   \n",
    "   # profit function\n",
    "    Revenue.append((i-cost) * quantity_demanded)\n",
    "# create data frame of price and revenue\n",
    "profit = pd.DataFrame({\"Price\": Price, \"Revenue\": Revenue})\n",
    "fig = plt.figure()\n",
    "ax = fig.add_subplot(111)\n",
    "#plot revenue against price\n",
    "ymax= max(Revenue)\n",
    "xpos = Revenue.index(ymax)\n",
    "xmax = Price[xpos]\n",
    "\n",
    "ax.annotate('max price', xy=(xmax, ymax), xytext=(xmax, ymax+5),\n",
    "            arrowprops=dict(facecolor='black', shrink=0.05),\n",
    "            )\n",
    "plt.plot(profit[\"Price\"], profit[\"Revenue\"])"
   ]
  },
  {
   "cell_type": "code",
   "execution_count": 18,
   "id": "d0618062",
   "metadata": {},
   "outputs": [
    {
     "data": {
      "text/html": [
       "<div>\n",
       "<style scoped>\n",
       "    .dataframe tbody tr th:only-of-type {\n",
       "        vertical-align: middle;\n",
       "    }\n",
       "\n",
       "    .dataframe tbody tr th {\n",
       "        vertical-align: top;\n",
       "    }\n",
       "\n",
       "    .dataframe thead th {\n",
       "        text-align: right;\n",
       "    }\n",
       "</style>\n",
       "<table border=\"1\" class=\"dataframe\">\n",
       "  <thead>\n",
       "    <tr style=\"text-align: right;\">\n",
       "      <th></th>\n",
       "      <th>Price</th>\n",
       "      <th>Revenue</th>\n",
       "    </tr>\n",
       "  </thead>\n",
       "  <tbody>\n",
       "    <tr>\n",
       "      <th>4</th>\n",
       "      <td>360</td>\n",
       "      <td>3726.8</td>\n",
       "    </tr>\n",
       "  </tbody>\n",
       "</table>\n",
       "</div>"
      ],
      "text/plain": [
       "   Price  Revenue\n",
       "4    360   3726.8"
      ]
     },
     "execution_count": 18,
     "metadata": {},
     "output_type": "execute_result"
    }
   ],
   "source": [
    "# price at which revenue is maximum\n",
    "profit[profit['Revenue']==profit['Revenue'].max()]"
   ]
  }
 ],
 "metadata": {
  "kernelspec": {
   "display_name": "Python 3",
   "language": "python",
   "name": "python3"
  },
  "language_info": {
   "codemirror_mode": {
    "name": "ipython",
    "version": 3
   },
   "file_extension": ".py",
   "mimetype": "text/x-python",
   "name": "python",
   "nbconvert_exporter": "python",
   "pygments_lexer": "ipython3",
   "version": "3.8.8"
  }
 },
 "nbformat": 4,
 "nbformat_minor": 5
}
